{
 "cells": [
  {
   "cell_type": "markdown",
   "metadata": {},
   "source": [
    "# Model Demo\n",
    "This notebook serves to give a simple demo of the `PoseEstimator` and how pretrained weights can be used with it to simply use a pretrained model."
   ]
  },
  {
   "cell_type": "code",
   "execution_count": null,
   "metadata": {},
   "outputs": [],
   "source": [
    "%matplotlib inline"
   ]
  },
  {
   "cell_type": "markdown",
   "metadata": {},
   "source": [
    "We create an instance of the pose estimator. Next we load the pretrained weights for this model."
   ]
  },
  {
   "cell_type": "code",
   "execution_count": null,
   "metadata": {},
   "outputs": [],
   "source": [
    "from openpose_cycling.model import PoseEstimator\n",
    "\n",
    "pose_estimator = PoseEstimator()\n",
    "\n",
    "pretrained_weights = './model.h5'\n",
    "pose_estimator.model.load_weights(pretrained_weights, by_name=True)"
   ]
  },
  {
   "cell_type": "markdown",
   "metadata": {},
   "source": [
    "As a demo we use an image of Chritopher Froome during the Giro d'Italia in 2018. We load this using `OpenCV`. Some care needs to be taken since by default `OpenCV` loads images in BGR format."
   ]
  },
  {
   "cell_type": "code",
   "execution_count": null,
   "metadata": {},
   "outputs": [],
   "source": [
    "import os\n",
    "import cv2\n",
    "\n",
    "data_dir = '../data'\n",
    "image_name = 'cycling.jpeg'\n",
    "\n",
    "demo_img_path = os.path.join(data_dir, image_name)\n",
    "\n",
    "image = cv2.imread(demo_img_path)"
   ]
  },
  {
   "cell_type": "code",
   "execution_count": null,
   "metadata": {},
   "outputs": [],
   "source": [
    "import matplotlib.pyplot as plt\n",
    "plt.imshow(image[..., [2, 1, 0]])"
   ]
  },
  {
   "cell_type": "markdown",
   "metadata": {},
   "source": [
    "Next, we plot the heatmap as outputted by the model per joint. This heatmap indicates regions of interest where joints are located."
   ]
  },
  {
   "cell_type": "code",
   "execution_count": null,
   "metadata": {},
   "outputs": [],
   "source": [
    "import numpy as np\n",
    "import matplotlib.pyplot as plt\n",
    "from openpose_cycling import config as c\n",
    "import math\n",
    "\n",
    "N_COLS = 4\n",
    "N_ROWS = math.ceil(len(c.ELEMENTS_MAP) / 4)\n",
    "\n",
    "\n",
    "paf, heatmap = pose_estimator.predict_from_image(image)\n",
    "heatmap_resized = cv2.resize(heatmap, (image.shape[1], image.shape[0]))\n",
    "\n",
    "fig, axs = plt.subplots(ncols=N_COLS, nrows=N_ROWS, figsize=(N_COLS*4, N_ROWS*3))\n",
    "\n",
    "for (el_id, name), ax in zip(c.ELEMENTS_MAP.items(), np.reshape(axs, (-1,))):\n",
    "    ax.imshow(image[..., [2, 1, 0]])\n",
    "    ax.imshow(heatmap_resized[..., el_id], alpha=0.7)\n",
    "    \n",
    "    ax.set_title(name)"
   ]
  }
 ],
 "metadata": {
  "kernelspec": {
   "display_name": "Python 3",
   "language": "python",
   "name": "python3"
  },
  "language_info": {
   "codemirror_mode": {
    "name": "ipython",
    "version": 3
   },
   "file_extension": ".py",
   "mimetype": "text/x-python",
   "name": "python",
   "nbconvert_exporter": "python",
   "pygments_lexer": "ipython3",
   "version": "3.7.3"
  }
 },
 "nbformat": 4,
 "nbformat_minor": 2
}
